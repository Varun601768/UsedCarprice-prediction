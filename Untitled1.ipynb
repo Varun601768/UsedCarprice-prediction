{
 "cells": [
  {
   "cell_type": "code",
   "execution_count": 1,
   "id": "4a2c3c86-4ccc-4b37-ad61-8241be59117b",
   "metadata": {},
   "outputs": [],
   "source": [
    "# Import necessary libraries\n",
    "import pandas as pd\n",
    "import numpy as np\n",
    "import matplotlib.pyplot as plt\n",
    "import seaborn as sns\n",
    "import re\n",
    "from sklearn.model_selection import train_test_split\n",
    "from sklearn.preprocessing import LabelEncoder, StandardScaler\n",
    "from sklearn.metrics import mean_squared_error, r2_score, mean_absolute_error\n",
    "# Regression models\n",
    "from sklearn.ensemble import RandomForestRegressor, GradientBoostingRegressor\n",
    "from sklearn.linear_model import LinearRegression\n",
    "from sklearn.svm import SVR\n",
    "from xgboost import XGBRegressor\n",
    "import joblib"
   ]
  },
  {
   "cell_type": "code",
   "execution_count": 2,
   "id": "3fa84e42-a6b4-44e2-a949-d50f0df33d81",
   "metadata": {},
   "outputs": [
    {
     "name": "stdout",
     "output_type": "stream",
     "text": [
      "Dataset shape: (8127, 13)\n",
      "                            name  year  selling_price  km_driven    fuel  \\\n",
      "0   Skoda Rapid 1.5 TDI Ambition  2014         370000     120000  Diesel   \n",
      "1       Honda City 2017-2020 EXi  2006         158000     140000  Petrol   \n",
      "2      Hyundai i20 Sportz Diesel  2010         225000     127000  Diesel   \n",
      "3         Maruti Swift VXI BSIII  2007         130000     120000  Petrol   \n",
      "4  Hyundai Xcent 1.2 VTVT E Plus  2017         440000      45000  Petrol   \n",
      "\n",
      "  seller_type transmission         owner     mileage   engine   max_power  \\\n",
      "0  Individual       Manual  Second Owner  21.14 kmpl  1498 CC  103.52 bhp   \n",
      "1  Individual       Manual   Third Owner   17.7 kmpl  1497 CC      78 bhp   \n",
      "2  Individual       Manual   First Owner   23.0 kmpl  1396 CC      90 bhp   \n",
      "3  Individual       Manual   First Owner   16.1 kmpl  1298 CC    88.2 bhp   \n",
      "4  Individual       Manual   First Owner  20.14 kmpl  1197 CC   81.86 bhp   \n",
      "\n",
      "                     torque  seats  \n",
      "0       250Nm@ 1500-2500rpm    5.0  \n",
      "1     12.7@ 2,700(kgm@ rpm)    5.0  \n",
      "2  22.4 kgm at 1750-2750rpm    5.0  \n",
      "3     11.5@ 4,500(kgm@ rpm)    5.0  \n",
      "4         113.75nm@ 4000rpm    5.0  \n",
      "\n",
      "Dataset info:\n",
      "<class 'pandas.core.frame.DataFrame'>\n",
      "RangeIndex: 8127 entries, 0 to 8126\n",
      "Data columns (total 13 columns):\n",
      " #   Column         Non-Null Count  Dtype  \n",
      "---  ------         --------------  -----  \n",
      " 0   name           8127 non-null   object \n",
      " 1   year           8127 non-null   int64  \n",
      " 2   selling_price  8127 non-null   int64  \n",
      " 3   km_driven      8127 non-null   int64  \n",
      " 4   fuel           8127 non-null   object \n",
      " 5   seller_type    8127 non-null   object \n",
      " 6   transmission   8127 non-null   object \n",
      " 7   owner          8127 non-null   object \n",
      " 8   mileage        7906 non-null   object \n",
      " 9   engine         7906 non-null   object \n",
      " 10  max_power      7912 non-null   object \n",
      " 11  torque         7905 non-null   object \n",
      " 12  seats          7906 non-null   float64\n",
      "dtypes: float64(1), int64(3), object(9)\n",
      "memory usage: 825.5+ KB\n",
      "None\n"
     ]
    }
   ],
   "source": [
    "\n",
    "# Load the dataset\n",
    "df = pd.read_csv(\"Car_details.csv\")\n",
    "print(\"Dataset shape:\", df.shape)\n",
    "print(df.head())\n",
    "print(\"\\nDataset info:\")\n",
    "print(df.info())"
   ]
  },
  {
   "cell_type": "code",
   "execution_count": 3,
   "id": "0b4a3c7a-4d9e-4ac1-8367-e46185e2573e",
   "metadata": {},
   "outputs": [
    {
     "name": "stdout",
     "output_type": "stream",
     "text": [
      "\n",
      "=== Data Cleaning ===\n"
     ]
    }
   ],
   "source": [
    "# Data Cleaning and Preprocessing\n",
    "print(\"\\n=== Data Cleaning ===\")\n",
    "# Clean numeric fields stored as strings with units\n",
    "def clean_mileage(value):\n",
    "    if pd.isna(value) or value == '':\n",
    "        return np.nan\n",
    "    value = str(value)\n",
    "    # Extract number from strings like \"19.67 kmpl\" or \"18.9\"\n",
    "    match = re.search(r'(\\d+\\.?\\d*)', value)\n",
    "    return float(match.group(1)) if match else np.nan\n",
    "def clean_engine(value):\n",
    "    if pd.isna(value) or value == '':\n",
    "        return np.nan\n",
    "    value = str(value)\n",
    "    # Extract number from strings like \"1197 CC\"\n",
    "    match = re.search(r'(\\d+)', value)\n",
    "    return float(match.group(1)) if match else np.nan  \n",
    "def clean_max_power(value):\n",
    "    if pd.isna(value) or value == '':\n",
    "        return np.nan\n",
    "    value = str(value)\n",
    "    # Extract number from strings like \"81.80 bhp\"\n",
    "    match = re.search(r'(\\d+\\.?\\d*)', value)\n",
    "    return float(match.group(1)) if match else np.nan\n",
    "def clean_torque(value):\n",
    "    if pd.isna(value) or value == '':\n",
    "        return np.nan\n",
    "    value = str(value)\n",
    "    # Extract the first number from torque strings\n",
    "    match = re.search(r'(\\d+\\.?\\d*)', value)\n",
    "    return float(match.group(1)) if match else np.nan    "
   ]
  },
  {
   "cell_type": "code",
   "execution_count": 4,
   "id": "1c9bbf2a-7514-4f01-918c-36567eaae8dc",
   "metadata": {},
   "outputs": [],
   "source": []
  },
  {
   "cell_type": "code",
   "execution_count": 5,
   "id": "4449977b-33d1-4ffd-b0db-4f144e54673d",
   "metadata": {},
   "outputs": [],
   "source": [
    "# Apply cleaning functions\n",
    "df['mileage'] = df['mileage'].apply(clean_mileage)\n",
    "df['engine'] = df['engine'].apply(clean_engine)\n",
    "df['max_power'] = df['max_power'].apply(clean_max_power)\n",
    "df['torque_value'] = df['torque'].apply(clean_torque)"
   ]
  },
  {
   "cell_type": "code",
   "execution_count": 6,
   "id": "23ebe860-627a-4ee2-9dec-acd440188dfe",
   "metadata": {},
   "outputs": [
    {
     "name": "stdout",
     "output_type": "stream",
     "text": [
      "\n",
      "Missing values before handling:\n",
      "name               0\n",
      "year               0\n",
      "selling_price      0\n",
      "km_driven          0\n",
      "fuel               0\n",
      "seller_type        0\n",
      "transmission       0\n",
      "owner              0\n",
      "mileage          221\n",
      "engine           221\n",
      "max_power        216\n",
      "torque           222\n",
      "seats            221\n",
      "brand              0\n",
      "torque_value     222\n",
      "dtype: int64\n"
     ]
    }
   ],
   "source": [
    "# Handle missing values more intelligently\n",
    "print(\"\\nMissing values before handling:\")\n",
    "print(df.isnull().sum())"
   ]
  },
  {
   "cell_type": "code",
   "execution_count": 7,
   "id": "943c0c60-5a9b-4a6f-b936-48b89d15ada1",
   "metadata": {},
   "outputs": [
    {
     "name": "stderr",
     "output_type": "stream",
     "text": [
      "C:\\Users\\varun\\AppData\\Local\\Temp\\ipykernel_46260\\1013178430.py:2: FutureWarning: A value is trying to be set on a copy of a DataFrame or Series through chained assignment using an inplace method.\n",
      "The behavior will change in pandas 3.0. This inplace method will never work because the intermediate object on which we are setting values always behaves as a copy.\n",
      "\n",
      "For example, when doing 'df[col].method(value, inplace=True)', try using 'df.method({col: value}, inplace=True)' or df[col] = df[col].method(value) instead, to perform the operation inplace on the original object.\n",
      "\n",
      "\n",
      "  df['mileage'].fillna(df['mileage'].median(), inplace=True)\n",
      "C:\\Users\\varun\\AppData\\Local\\Temp\\ipykernel_46260\\1013178430.py:3: FutureWarning: A value is trying to be set on a copy of a DataFrame or Series through chained assignment using an inplace method.\n",
      "The behavior will change in pandas 3.0. This inplace method will never work because the intermediate object on which we are setting values always behaves as a copy.\n",
      "\n",
      "For example, when doing 'df[col].method(value, inplace=True)', try using 'df.method({col: value}, inplace=True)' or df[col] = df[col].method(value) instead, to perform the operation inplace on the original object.\n",
      "\n",
      "\n",
      "  df['engine'].fillna(df['engine'].median(), inplace=True)\n",
      "C:\\Users\\varun\\AppData\\Local\\Temp\\ipykernel_46260\\1013178430.py:4: FutureWarning: A value is trying to be set on a copy of a DataFrame or Series through chained assignment using an inplace method.\n",
      "The behavior will change in pandas 3.0. This inplace method will never work because the intermediate object on which we are setting values always behaves as a copy.\n",
      "\n",
      "For example, when doing 'df[col].method(value, inplace=True)', try using 'df.method({col: value}, inplace=True)' or df[col] = df[col].method(value) instead, to perform the operation inplace on the original object.\n",
      "\n",
      "\n",
      "  df['max_power'].fillna(df['max_power'].median(), inplace=True)\n",
      "C:\\Users\\varun\\AppData\\Local\\Temp\\ipykernel_46260\\1013178430.py:5: FutureWarning: A value is trying to be set on a copy of a DataFrame or Series through chained assignment using an inplace method.\n",
      "The behavior will change in pandas 3.0. This inplace method will never work because the intermediate object on which we are setting values always behaves as a copy.\n",
      "\n",
      "For example, when doing 'df[col].method(value, inplace=True)', try using 'df.method({col: value}, inplace=True)' or df[col] = df[col].method(value) instead, to perform the operation inplace on the original object.\n",
      "\n",
      "\n",
      "  df['torque_value'].fillna(df['torque_value'].median(), inplace=True)\n",
      "C:\\Users\\varun\\AppData\\Local\\Temp\\ipykernel_46260\\1013178430.py:6: FutureWarning: A value is trying to be set on a copy of a DataFrame or Series through chained assignment using an inplace method.\n",
      "The behavior will change in pandas 3.0. This inplace method will never work because the intermediate object on which we are setting values always behaves as a copy.\n",
      "\n",
      "For example, when doing 'df[col].method(value, inplace=True)', try using 'df.method({col: value}, inplace=True)' or df[col] = df[col].method(value) instead, to perform the operation inplace on the original object.\n",
      "\n",
      "\n",
      "  df['seats'].fillna(df['seats'].mode()[0], inplace=True)\n"
     ]
    }
   ],
   "source": [
    "# Fill missing values with appropriate strategies\n",
    "df['mileage'].fillna(df['mileage'].median(), inplace=True)\n",
    "df['engine'].fillna(df['engine'].median(), inplace=True)\n",
    "df['max_power'].fillna(df['max_power'].median(), inplace=True)\n",
    "df['torque_value'].fillna(df['torque_value'].median(), inplace=True)\n",
    "df['seats'].fillna(df['seats'].mode()[0], inplace=True)"
   ]
  },
  {
   "cell_type": "code",
   "execution_count": 8,
   "id": "c04b6257-d751-4b0f-a392-9cbdc3d1cdcb",
   "metadata": {},
   "outputs": [
    {
     "name": "stdout",
     "output_type": "stream",
     "text": [
      "\n",
      "Missing values after handling:\n",
      "name               0\n",
      "year               0\n",
      "selling_price      0\n",
      "km_driven          0\n",
      "fuel               0\n",
      "seller_type        0\n",
      "transmission       0\n",
      "owner              0\n",
      "mileage            0\n",
      "engine             0\n",
      "max_power          0\n",
      "torque           222\n",
      "seats              0\n",
      "brand              0\n",
      "torque_value       0\n",
      "dtype: int64\n"
     ]
    }
   ],
   "source": [
    "print(\"\\nMissing values after handling:\")\n",
    "print(df.isnull().sum())"
   ]
  },
  {
   "cell_type": "code",
   "execution_count": 9,
   "id": "b334f87f-6adb-49b7-bb59-969ca067e60d",
   "metadata": {},
   "outputs": [],
   "source": [
    "# Remove outliers using IQR method for selling_price\n",
    "Q1 = df['selling_price'].quantile(0.25)\n",
    "Q3 = df['selling_price'].quantile(0.75)\n",
    "IQR = Q3 - Q1\n",
    "lower_bound = Q1 - 1.5 * IQR\n",
    "upper_bound = Q3 + 1.5 * IQR"
   ]
  },
  {
   "cell_type": "code",
   "execution_count": 10,
   "id": "8ed7a84e-738a-48ca-ae50-190d05144078",
   "metadata": {},
   "outputs": [
    {
     "name": "stdout",
     "output_type": "stream",
     "text": [
      "\n",
      "Removing outliers: Price range -375002 to 1305002\n",
      "Removed 600 outliers\n"
     ]
    }
   ],
   "source": [
    "print(f\"\\nRemoving outliers: Price range {lower_bound:.0f} to {upper_bound:.0f}\")\n",
    "initial_count = len(df)\n",
    "df = df[(df['selling_price'] >= lower_bound) & (df['selling_price'] <= upper_bound)]\n",
    "print(f\"Removed {initial_count - len(df)} outliers\")"
   ]
  },
  {
   "cell_type": "code",
   "execution_count": 25,
   "id": "1ab4d526-fb65-4cd8-9c4d-5e4ad510ba53",
   "metadata": {},
   "outputs": [],
   "source": []
  },
  {
   "cell_type": "code",
   "execution_count": 33,
   "id": "2c1ef4e2-3bb9-4bf6-8c6c-cff57c4e1f17",
   "metadata": {},
   "outputs": [
    {
     "name": "stdout",
     "output_type": "stream",
     "text": [
      "\n",
      "=== Feature Engineering ===\n",
      "\n",
      "brand encoding:\n",
      "  0: Ambassador\n",
      "  1: Ashok\n",
      "  2: Audi\n",
      "  3: BMW\n",
      "  4: Chevrolet\n",
      "  5: Daewoo\n",
      "  6: Datsun\n",
      "  7: Fiat\n",
      "  8: Force\n",
      "  9: Ford\n",
      "  10: Honda\n",
      "  11: Hyundai\n",
      "  12: Isuzu\n",
      "  13: Kia\n",
      "  14: Mahindra\n",
      "  15: Maruti\n",
      "  16: Mercedes-Benz\n",
      "  17: Mitsubishi\n",
      "  18: Nissan\n",
      "  19: Opel\n",
      "  20: Peugeot\n",
      "  21: Renault\n",
      "  22: Skoda\n",
      "  23: Tata\n",
      "  24: Toyota\n",
      "  25: Volkswagen\n",
      "  26: Volvo\n",
      "\n",
      "fuel encoding:\n",
      "  0: CNG\n",
      "  1: Diesel\n",
      "  2: LPG\n",
      "  3: Petrol\n",
      "\n",
      "seller_type encoding:\n",
      "  0: Dealer\n",
      "  1: Individual\n",
      "  2: Trustmark Dealer\n",
      "\n",
      "transmission encoding:\n",
      "  0: Automatic\n",
      "  1: Manual\n",
      "\n",
      "owner encoding:\n",
      "  0: First Owner\n",
      "  1: Fourth & Above Owner\n",
      "  2: Second Owner\n",
      "  3: Third Owner\n"
     ]
    }
   ],
   "source": [
    "# Feature Engineering\n",
    "print(\"\\n=== Feature Engineering ===\")\n",
    "# Create new features\n",
    "df['brand'] = df['name'].astype(str).str.split().str[0]\n",
    "df['car_age'] = 2024 - df['year']  # Car age in years\n",
    "df['power_to_weight'] = df['max_power'] / df['engine'] * 1000  # Power per unit engine size\n",
    "df['mileage_efficiency'] = df['mileage'] / df['engine'] * 1000  # Fuel efficiency ratio\n",
    "# Encode categorical variables\n",
    "categorical_cols = ['brand','fuel', 'seller_type', 'transmission', 'owner']\n",
    "label_encoders = {}\n",
    "for col in categorical_cols:\n",
    "    le = LabelEncoder()\n",
    "    df[col + '_encoded'] = le.fit_transform(df[col].astype(str))\n",
    "    label_encoders[col] = le\n",
    "    # Display encoding mappings\n",
    "for col in categorical_cols:\n",
    "    print(f\"\\n{col} encoding:\")\n",
    "    for i, class_name in enumerate(label_encoders[col].classes_):\n",
    "        print(f\"  {i}: {class_name}\")"
   ]
  },
  {
   "cell_type": "code",
   "execution_count": 35,
   "id": "11a40bfb-11e9-4471-98a9-9136fef5960b",
   "metadata": {},
   "outputs": [
    {
     "name": "stdout",
     "output_type": "stream",
     "text": [
      "\n",
      "Feature matrix shape: (7527, 14)\n",
      "Target vector shape: (7527,)\n"
     ]
    }
   ],
   "source": [
    "# Define features and target\n",
    "feature_columns = [\n",
    "    'brand_encoded','car_age', 'km_driven', 'fuel_encoded', 'seller_type_encoded', \n",
    "    'transmission_encoded', 'owner_encoded', 'mileage', 'engine', \n",
    "    'max_power', 'seats', 'torque_value', 'power_to_weight', 'mileage_efficiency'\n",
    "]\n",
    "X = df[feature_columns]\n",
    "y = df['selling_price']\n",
    "print(f\"\\nFeature matrix shape: {X.shape}\")\n",
    "print(f\"Target vector shape: {y.shape}\")"
   ]
  },
  {
   "cell_type": "code",
   "execution_count": 36,
   "id": "179721ab-34e0-40c4-b067-d64c5d55af6d",
   "metadata": {},
   "outputs": [],
   "source": [
    "# Split the data\n",
    "X_train, X_test, y_train, y_test = train_test_split(\n",
    "    X, y, test_size=0.2, random_state=42, stratify=pd.cut(y, bins=5)\n",
    ")"
   ]
  },
  {
   "cell_type": "code",
   "execution_count": 37,
   "id": "beb8d22b-b8f7-4884-bf97-03b3dd25f109",
   "metadata": {},
   "outputs": [],
   "source": [
    "# Feature scaling\n",
    "scaler = StandardScaler()\n",
    "X_train_scaled = scaler.fit_transform(X_train)\n",
    "X_test_scaled = scaler.transform(X_test)\n"
   ]
  },
  {
   "cell_type": "code",
   "execution_count": 38,
   "id": "51056ab7-229c-4239-a020-bf98b5c44be2",
   "metadata": {},
   "outputs": [
    {
     "name": "stdout",
     "output_type": "stream",
     "text": [
      "\n",
      "=== Model Training ===\n",
      "\n",
      "Training Random Forest...\n",
      "  ➤ R2 Score: 0.8970\n",
      "  ➤ RMSE: ₹83890.08\n",
      "  ➤ MAE: ₹58234.96\n",
      "\n",
      "Training XGBoost...\n",
      "  ➤ R2 Score: 0.9008\n",
      "  ➤ RMSE: ₹82335.72\n",
      "  ➤ MAE: ₹57502.18\n",
      "\n",
      "Training Gradient Boosting...\n",
      "  ➤ R2 Score: 0.9029\n",
      "  ➤ RMSE: ₹81438.59\n",
      "  ➤ MAE: ₹57083.76\n",
      "\n",
      "Training Linear Regression...\n",
      "  ➤ R2 Score: 0.6920\n",
      "  ➤ RMSE: ₹145060.73\n",
      "  ➤ MAE: ₹109533.32\n",
      "\n",
      "Training Support Vector Regressor...\n",
      "  ➤ R2 Score: 0.1052\n",
      "  ➤ RMSE: ₹247241.60\n",
      "  ➤ MAE: ₹193769.78\n"
     ]
    }
   ],
   "source": [
    "# Model Training and Evaluation\n",
    "print(\"\\n=== Model Training ===\")\n",
    "\n",
    "models = {\n",
    "    \"Random Forest\": RandomForestRegressor(\n",
    "        n_estimators=200, \n",
    "        max_depth=15, \n",
    "        min_samples_split=5,\n",
    "        min_samples_leaf=2,\n",
    "        random_state=42\n",
    "    ),\n",
    "    \"XGBoost\": XGBRegressor(\n",
    "        n_estimators=200,\n",
    "        max_depth=6,\n",
    "        learning_rate=0.1,\n",
    "        subsample=0.8,\n",
    "        colsample_bytree=0.8,\n",
    "        random_state=42\n",
    "    ),\n",
    "    \"Gradient Boosting\": GradientBoostingRegressor(\n",
    "        n_estimators=150,\n",
    "        max_depth=6,\n",
    "        learning_rate=0.1,\n",
    "        subsample=0.8,\n",
    "        random_state=42\n",
    "    ),\n",
    "    \"Linear Regression\": LinearRegression(),\n",
    "    \"Support Vector Regressor\": SVR(kernel='rbf', C=100, gamma=0.1)\n",
    "}\n",
    "# Train and evaluate models\n",
    "results = {}\n",
    "for name, model in models.items():\n",
    "    print(f\"\\nTraining {name}...\")\n",
    "    \n",
    "    # Use scaled data for SVR and Linear Regression\n",
    "    if name in [\"Support Vector Regressor\", \"Linear Regression\"]:\n",
    "        model.fit(X_train_scaled, y_train)\n",
    "        y_pred = model.predict(X_test_scaled)\n",
    "    else:\n",
    "        model.fit(X_train, y_train)\n",
    "        y_pred = model.predict(X_test)\n",
    "    \n",
    "    # Calculate metrics\n",
    "    r2 = r2_score(y_test, y_pred)\n",
    "    rmse = np.sqrt(mean_squared_error(y_test, y_pred))\n",
    "    mae = mean_absolute_error(y_test, y_pred)\n",
    "    \n",
    "    results[name] = {\n",
    "        'R2 Score': r2, \n",
    "        'RMSE': rmse,\n",
    "        'MAE': mae\n",
    "    }\n",
    "    \n",
    "    print(f\"  ➤ R2 Score: {r2:.4f}\")\n",
    "    print(f\"  ➤ RMSE: ₹{rmse:.2f}\")\n",
    "    print(f\"  ➤ MAE: ₹{mae:.2f}\")"
   ]
  },
  {
   "cell_type": "code",
   "execution_count": 39,
   "id": "b6215df0-0ff6-4fbf-b945-1133bd84b322",
   "metadata": {},
   "outputs": [
    {
     "name": "stdout",
     "output_type": "stream",
     "text": [
      "\n",
      "=== Model Comparison ===\n",
      "                          R2 Score         RMSE          MAE\n",
      "Gradient Boosting           0.9029   81438.5874   57083.7647\n",
      "XGBoost                     0.9008   82335.7180   57502.1791\n",
      "Random Forest               0.8970   83890.0848   58234.9585\n",
      "Linear Regression           0.6920  145060.7287  109533.3185\n",
      "Support Vector Regressor    0.1052  247241.5955  193769.7799\n"
     ]
    }
   ],
   "source": [
    "# Display results\n",
    "print(\"\\n=== Model Comparison ===\")\n",
    "result_df = pd.DataFrame(results).T.sort_values('R2 Score', ascending=False)\n",
    "print(result_df.round(4))"
   ]
  },
  {
   "cell_type": "code",
   "execution_count": 40,
   "id": "4060e154-1109-43b6-8e0b-f72fe002eb23",
   "metadata": {},
   "outputs": [
    {
     "name": "stderr",
     "output_type": "stream",
     "text": [
      "C:\\Users\\varun\\AppData\\Local\\Temp\\ipykernel_46260\\2506795320.py:5: FutureWarning: \n",
      "\n",
      "Passing `palette` without assigning `hue` is deprecated and will be removed in v0.14.0. Assign the `x` variable to `hue` and set `legend=False` for the same effect.\n",
      "\n",
      "  sns.barplot(x=result_df.index, y=result_df['R2 Score'], palette=\"viridis\")\n",
      "C:\\Users\\varun\\AppData\\Local\\Temp\\ipykernel_46260\\2506795320.py:11: FutureWarning: \n",
      "\n",
      "Passing `palette` without assigning `hue` is deprecated and will be removed in v0.14.0. Assign the `x` variable to `hue` and set `legend=False` for the same effect.\n",
      "\n",
      "  sns.barplot(x=result_df.index, y=result_df['RMSE'], palette=\"plasma\")\n",
      "C:\\Users\\varun\\AppData\\Local\\Temp\\ipykernel_46260\\2506795320.py:17: FutureWarning: \n",
      "\n",
      "Passing `palette` without assigning `hue` is deprecated and will be removed in v0.14.0. Assign the `x` variable to `hue` and set `legend=False` for the same effect.\n",
      "\n",
      "  sns.barplot(x=result_df.index, y=result_df['MAE'], palette=\"magma\")\n"
     ]
    },
    {
     "data": {
      "image/png": "[encoded data removed]",
      "text/plain": [
       "<Figure size 1500x500 with 3 Axes>"
      ]
     },
     "metadata": {},
     "output_type": "display_data"
    }
   ],
   "source": [
    "# Visualize results\n",
    "plt.figure(figsize=(15, 5))\n",
    "\n",
    "plt.subplot(1, 3, 1)\n",
    "sns.barplot(x=result_df.index, y=result_df['R2 Score'], palette=\"viridis\")\n",
    "plt.title(\"Model Comparison: R² Score\")\n",
    "plt.ylabel(\"R² Score\")\n",
    "plt.xticks(rotation=45)\n",
    "\n",
    "plt.subplot(1, 3, 2)\n",
    "sns.barplot(x=result_df.index, y=result_df['RMSE'], palette=\"plasma\")\n",
    "plt.title(\"Model Comparison: RMSE\")\n",
    "plt.ylabel(\"RMSE (₹)\")\n",
    "plt.xticks(rotation=45)\n",
    "\n",
    "plt.subplot(1, 3, 3)\n",
    "sns.barplot(x=result_df.index, y=result_df['MAE'], palette=\"magma\")\n",
    "plt.title(\"Model Comparison: MAE\")\n",
    "plt.ylabel(\"MAE (₹)\")\n",
    "plt.xticks(rotation=45)\n",
    "\n",
    "plt.tight_layout()\n",
    "plt.show()"
   ]
  },
  {
   "cell_type": "code",
   "execution_count": 41,
   "id": "98a2e6d4-8641-42b0-950b-5e4416c7f2ae",
   "metadata": {},
   "outputs": [],
   "source": [
    "\n",
    "# Select best model and save\n",
    "best_model_name = result_df.index[0]\n",
    "best_model = models[best_model_name]"
   ]
  },
  {
   "cell_type": "code",
   "execution_count": 42,
   "id": "894e1da6-a288-4fae-88bb-aa6d7d58cfbe",
   "metadata": {},
   "outputs": [
    {
     "name": "stdout",
     "output_type": "stream",
     "text": [
      "✅ Model and preprocessing components saved successfully!\n",
      "Files saved:\n",
      "  - best_car_price_model.pkl (Gradient Boosting model)\n",
      "  - car_price_scaler.pkl (StandardScaler)\n",
      "  - label_encoders.pkl (Categorical encoders)\n",
      "  - feature_columns.pkl (Feature list)\n"
     ]
    }
   ],
   "source": [
    "import joblib\n",
    "\n",
    "# Save the best model (Gradient Boosting) and preprocessing components\n",
    "joblib.dump(models[\"Gradient Boosting\"], \"best_car_price_model.pkl\")\n",
    "joblib.dump(scaler, \"car_price_scaler.pkl\")\n",
    "joblib.dump(label_encoders, \"label_encoders.pkl\")\n",
    "joblib.dump(feature_columns, \"feature_columns.pkl\")\n",
    "\n",
    "print(\"✅ Model and preprocessing components saved successfully!\")\n",
    "print(\"Files saved:\")\n",
    "print(\"  - best_car_price_model.pkl (Gradient Boosting model)\")\n",
    "print(\"  - car_price_scaler.pkl (StandardScaler)\")\n",
    "print(\"  - label_encoders.pkl (Categorical encoders)\")\n",
    "print(\"  - feature_columns.pkl (Feature list)\")"
   ]
  },
  {
   "cell_type": "code",
   "execution_count": 43,
   "id": "2eb18e52-9e37-4c88-b45a-71b04b2e5983",
   "metadata": {},
   "outputs": [
    {
     "name": "stdout",
     "output_type": "stream",
     "text": [
      "\n",
      "=== Feature Importance (Gradient Boosting) ===\n",
      "                 feature  importance\n",
      "1                car_age    0.442044\n",
      "9              max_power    0.254530\n",
      "11          torque_value    0.101677\n",
      "8                 engine    0.054460\n",
      "12       power_to_weight    0.032474\n",
      "2              km_driven    0.027830\n",
      "0          brand_encoded    0.026343\n",
      "13    mileage_efficiency    0.023216\n",
      "7                mileage    0.019596\n",
      "10                 seats    0.005985\n",
      "6          owner_encoded    0.004548\n",
      "5   transmission_encoded    0.004006\n",
      "4    seller_type_encoded    0.001746\n",
      "3           fuel_encoded    0.001544\n"
     ]
    },
    {
     "data": {
      "image/png": "[encoded data removed]",
      "text/plain": [
       "<Figure size 1000x600 with 1 Axes>"
      ]
     },
     "metadata": {},
     "output_type": "display_data"
    }
   ],
   "source": [
    "# Feature importance analysis\n",
    "if hasattr(best_model, 'feature_importances_'):\n",
    "    feature_importance = pd.DataFrame({\n",
    "        'feature': feature_columns,\n",
    "        'importance': best_model.feature_importances_\n",
    "    }).sort_values('importance', ascending=False)\n",
    "    \n",
    "    print(f\"\\n=== Feature Importance ({best_model_name}) ===\")\n",
    "    print(feature_importance)\n",
    "    \n",
    "    plt.figure(figsize=(10, 6))\n",
    "    sns.barplot(data=feature_importance.head(10), x='importance', y='feature')\n",
    "    plt.title(f'Top 10 Feature Importances - {best_model_name}')\n",
    "    plt.xlabel('Importance')\n",
    "    plt.tight_layout()\n",
    "    plt.show()"
   ]
  },
  {
   "cell_type": "code",
   "execution_count": 49,
   "id": "e034b747-854c-47b4-9aa2-53072c75d168",
   "metadata": {},
   "outputs": [],
   "source": [
    "import joblib\n",
    "import pandas as pd\n",
    "\n",
    "def predict_car_price(brand, year, km_driven, fuel, seller_type, transmission, owner, \n",
    "                      mileage, engine, max_power, seats, torque_value, model_name=\"Random Forest\"):\n",
    "    \"\"\"\n",
    "    Predict car price with new input data\n",
    "    \"\"\"\n",
    "    # Load saved components\n",
    "    model = joblib.load(\"best_car_price_model.pkl\")\n",
    "    scaler = joblib.load(\"car_price_scaler.pkl\")\n",
    "    encoders = joblib.load(\"label_encoders.pkl\")\n",
    "    features = joblib.load(\"feature_columns.pkl\")\n",
    "    \n",
    "    # Create input dataframe\n",
    "    input_data = pd.DataFrame({\n",
    "        'brand': [brand],\n",
    "        'year': [year],\n",
    "        'km_driven': [km_driven],\n",
    "        'fuel': [fuel],\n",
    "        'seller_type': [seller_type],\n",
    "        'transmission': [transmission],\n",
    "        'owner': [owner],\n",
    "        'mileage': [mileage],\n",
    "        'engine': [engine],\n",
    "        'max_power': [max_power],\n",
    "        'seats': [seats],\n",
    "        'torque_value': [torque_value]\n",
    "    })\n",
    "\n",
    "    # Feature engineering\n",
    "    input_data['car_age'] = 2024 - input_data['year']\n",
    "    input_data['power_to_weight'] = input_data['max_power'] / input_data['engine'] * 1000\n",
    "    input_data['mileage_efficiency'] = input_data['mileage'] / input_data['engine'] * 1000\n",
    "    \n",
    "    # Encode categorical variables\n",
    "    for col in ['brand', 'fuel', 'seller_type', 'transmission', 'owner']:\n",
    "        input_data[col + '_encoded'] = encoders[col].transform([input_data[col].iloc[0]])[0]\n",
    "    \n",
    "    # Select only the features used for training\n",
    "    X_input = input_data[features]\n",
    "\n",
    "    # Apply scaling only if required\n",
    "    if model_name in [\"Support Vector Regressor\", \"Linear Regression\"]:\n",
    "        X_input = scaler.transform(X_input)\n",
    "    \n",
    "    # Predict\n",
    "    prediction = model.predict(X_input)[0]\n",
    "    \n",
    "    return prediction\n"
   ]
  },
  {
   "cell_type": "code",
   "execution_count": 53,
   "id": "d01e8504-319e-47a4-be39-d7b6f22d9e9d",
   "metadata": {},
   "outputs": [
    {
     "name": "stdout",
     "output_type": "stream",
     "text": [
      "\n",
      "=== Example Prediction ===\n",
      "Predicted Selling Price: ₹519,320.85\n"
     ]
    }
   ],
   "source": [
    "# Example prediction\n",
    "print(\"\\n=== Example Prediction ===\")\n",
    "try:\n",
    "    predicted_price = predict_car_price(\n",
    "        brand='Ambassador',\n",
    "        year=2018,\n",
    "        km_driven=40000,\n",
    "        fuel='Petrol',\n",
    "        seller_type='Individual',\n",
    "        transmission='Manual',\n",
    "        owner='First Owner',\n",
    "        mileage=19.5,\n",
    "        engine=1197,\n",
    "        max_power=82.0,\n",
    "        seats=5,\n",
    "        torque_value=113.0\n",
    "    )\n",
    "    print(f\"Predicted Selling Price: ₹{predicted_price:,.2f}\")\n",
    "except Exception as e:\n",
    "    print(f\"Error in prediction: {e}\")\n",
    "    print(\"Make sure all categorical values match the training data categories.\")"
   ]
  },
  {
   "cell_type": "code",
   "execution_count": null,
   "id": "702a4dc2-be33-46e4-8cce-f597cde82e6f",
   "metadata": {},
   "outputs": [],
   "source": []
  }
 ],
 "metadata": {
  "kernelspec": {
   "display_name": "Python 3 (ipykernel)",
   "language": "python",
   "name": "python3"
  },
  "language_info": {
   "codemirror_mode": {
    "name": "ipython",
    "version": 3
   },
   "file_extension": ".py",
   "mimetype": "text/x-python",
   "name": "python",
   "nbconvert_exporter": "python",
   "pygments_lexer": "ipython3",
   "version": "3.12.3"
  }
 },
 "nbformat": 4,
 "nbformat_minor": 5
}
